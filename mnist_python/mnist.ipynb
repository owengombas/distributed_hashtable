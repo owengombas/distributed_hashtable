{
 "cells": [
  {
   "cell_type": "code",
   "execution_count": 1,
   "metadata": {},
   "outputs": [],
   "source": [
    "import torch\n",
    "from torchvision.datasets import MNIST\n",
    "from torchvision.transforms import ToTensor\n",
    "from torch.utils.data import DataLoader\n",
    "from torch import nn\n",
    "from torch.nn import functional as F\n",
    "from torch import optim\n",
    "from typing import Tuple, List\n",
    "import matplotlib.pyplot as plt\n",
    "import seaborn as sns"
   ]
  },
  {
   "cell_type": "code",
   "execution_count": 2,
   "metadata": {},
   "outputs": [],
   "source": [
    "DEVICE = \"cpu\""
   ]
  },
  {
   "cell_type": "code",
   "execution_count": 3,
   "metadata": {},
   "outputs": [
    {
     "data": {
      "text/plain": [
       "(Dataset MNIST\n",
       "     Number of datapoints: 60000\n",
       "     Root location: data\n",
       "     Split: Train,\n",
       " Dataset MNIST\n",
       "     Number of datapoints: 10000\n",
       "     Root location: data\n",
       "     Split: Test)"
      ]
     },
     "execution_count": 3,
     "metadata": {},
     "output_type": "execute_result"
    }
   ],
   "source": [
    "train = MNIST(\"data\", train=True)\n",
    "test = MNIST(\"data\", train=False)\n",
    "train, test"
   ]
  },
  {
   "cell_type": "code",
   "execution_count": 4,
   "metadata": {},
   "outputs": [
    {
     "data": {
      "image/jpeg": "[encoded data removed]",
      "image/png": "[encoded data removed]",
      "text/plain": [
       "<PIL.Image.Image image mode=L size=28x28>"
      ]
     },
     "execution_count": 4,
     "metadata": {},
     "output_type": "execute_result"
    }
   ],
   "source": [
    "image_1 = train[0][0]\n",
    "image_1"
   ]
  },
  {
   "cell_type": "code",
   "execution_count": 5,
   "metadata": {},
   "outputs": [
    {
     "data": {
      "text/plain": [
       "784"
      ]
     },
     "execution_count": 5,
     "metadata": {},
     "output_type": "execute_result"
    }
   ],
   "source": [
    "size_of_images = image_1.width * image_1.height\n",
    "size_of_images"
   ]
  },
  {
   "cell_type": "code",
   "execution_count": 6,
   "metadata": {},
   "outputs": [],
   "source": [
    "# Turn the images into tensors\n",
    "train_x = torch.stack([ToTensor()(i[0]) for i in train]).to(DEVICE)\n",
    "train_y = torch.tensor([i[1] for i in train]).to(DEVICE)\n",
    "\n",
    "test_x = torch.stack([ToTensor()(i[0]) for i in test]).to(DEVICE)\n",
    "test_y = torch.tensor([i[1] for i in test]).to(DEVICE)"
   ]
  },
  {
   "cell_type": "code",
   "execution_count": 7,
   "metadata": {},
   "outputs": [],
   "source": [
    "class MNISTNeuralNetwork(nn.Module):\n",
    "    def __init__(self, dims: List[int]):\n",
    "        super().__init__()\n",
    "        self.layers = nn.ModuleList(\n",
    "            [nn.Linear(dims[i], dims[i + 1]) for i in range(len(dims) - 1)]\n",
    "        )\n",
    "        self.softmax = nn.Softmax(dim=1)\n",
    "\n",
    "    def forward(self, x):\n",
    "        for layer in self.layers[:-1]:\n",
    "            x = F.relu(layer(x))\n",
    "\n",
    "        x = self.layers[-1](x)\n",
    "\n",
    "        return self.softmax(x)\n",
    "\n",
    "\n",
    "model = MNISTNeuralNetwork([size_of_images, 128, 10]).to(DEVICE)"
   ]
  },
  {
   "cell_type": "code",
   "execution_count": 8,
   "metadata": {},
   "outputs": [],
   "source": [
    "train_dataset = torch.utils.data.TensorDataset(train_x, train_y)\n",
    "train_dataloader = DataLoader(train_dataset, batch_size=64)\n",
    "\n",
    "test_dataset = torch.utils.data.TensorDataset(test_x, test_y)\n",
    "test_dataloader = DataLoader(test_dataset, batch_size=64)"
   ]
  },
  {
   "cell_type": "code",
   "execution_count": 9,
   "metadata": {},
   "outputs": [
    {
     "name": "stdout",
     "output_type": "stream",
     "text": [
      "Epoch 0 Loss: 1.8971749856782112\n",
      "Epoch 10 Loss: 1.5286709062580361\n",
      "Epoch 20 Loss: 1.5093055878366743\n",
      "Epoch 30 Loss: 1.4983826128404532\n",
      "Epoch 40 Loss: 1.4906160373931754\n",
      "Epoch 50 Loss: 1.485747740466966\n",
      "Epoch 60 Loss: 1.4822106672756707\n",
      "Epoch 70 Loss: 1.4797020464309498\n",
      "Epoch 80 Loss: 1.4778378718951617\n",
      "Epoch 90 Loss: 1.4763997458954101\n"
     ]
    }
   ],
   "source": [
    "learning_rate = 0.1\n",
    "epochs = 100\n",
    "log_interval = 10\n",
    "optimizer = torch.optim.SGD(model.parameters(), lr=learning_rate)\n",
    "loss_fn = nn.CrossEntropyLoss()\n",
    "\n",
    "losses: torch.Tensor = torch.zeros(epochs, device=DEVICE)\n",
    "for epoch in range(epochs):\n",
    "    total_loss = 0\n",
    "    for images, labels in train_dataloader:\n",
    "        # Images is a batch of images <batch_size>\n",
    "        images = images.view(-1, size_of_images) # Flatten the images\n",
    "        optimizer.zero_grad() # Reset the gradients\n",
    "        output = model(images)\n",
    "        loss = loss_fn(output, labels)\n",
    "        loss.backward()\n",
    "        optimizer.step()\n",
    "        total_loss += loss.item()\n",
    "    \n",
    "    total_loss /= len(train_dataloader)\n",
    "    losses[epoch] = total_loss\n",
    "\n",
    "    if epoch % log_interval == 0:\n",
    "        print(f\"Epoch {epoch} Loss: {total_loss}\")"
   ]
  },
  {
   "cell_type": "code",
   "execution_count": 10,
   "metadata": {},
   "outputs": [
    {
     "data": {
      "text/plain": [
       "<Axes: >"
      ]
     },
     "execution_count": 10,
     "metadata": {},
     "output_type": "execute_result"
    },
    {
     "data": {
      "image/png": "[encoded data removed]",
      "text/plain": [
       "<Figure size 640x480 with 1 Axes>"
      ]
     },
     "metadata": {},
     "output_type": "display_data"
    }
   ],
   "source": [
    "sns.lineplot(x=range(epochs), y=losses.cpu().numpy())"
   ]
  },
  {
   "cell_type": "code",
   "execution_count": 11,
   "metadata": {},
   "outputs": [
    {
     "name": "stdout",
     "output_type": "stream",
     "text": [
      "Accuracy of the network on the 10000 test images: 97.41%\n"
     ]
    }
   ],
   "source": [
    "# Test the model\n",
    "correct = 0\n",
    "total = 0\n",
    "with torch.no_grad():\n",
    "    for images, labels in test_dataloader:\n",
    "        # Images is a batch of images <batch_size>\n",
    "        images = images.view(-1, size_of_images) # Flatten the images\n",
    "        output = model(images) # Get the output of the model\n",
    "        _, predicted = torch.max(output.data, 1) # Get the index of the max log-probability (softmax)\n",
    "        total += labels.size(0) # Add the number of labels in the batch\n",
    "        correct += (predicted == labels).sum().item() # Add the number of correct predictions\n",
    "\n",
    "print(f\"Accuracy of the network on the 10000 test images: {100 * correct / total}%\")"
   ]
  }
 ],
 "metadata": {
  "kernelspec": {
   "display_name": ".venv",
   "language": "python",
   "name": "python3"
  },
  "language_info": {
   "codemirror_mode": {
    "name": "ipython",
    "version": 3
   },
   "file_extension": ".py",
   "mimetype": "text/x-python",
   "name": "python",
   "nbconvert_exporter": "python",
   "pygments_lexer": "ipython3",
   "version": "3.10.10"
  }
 },
 "nbformat": 4,
 "nbformat_minor": 2
}
